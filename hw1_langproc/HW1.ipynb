{
 "cells": [
  {
   "cell_type": "code",
   "execution_count": 37,
   "metadata": {},
   "outputs": [],
   "source": [
    "import os\n",
    "from nltk import sent_tokenize\n",
    "import re\n",
    "import pandas as pd\n",
    "\n",
    "#здесь функция, которая получает на вход токенизатор, \n",
    "#тестирует его на вручную разбитом на предложения тексте, и считает метрики precision, recall и f1\n",
    "def quality(model):\n",
    "    with open('text_split.txt', 'r', encoding = 'utf-8') as f:\n",
    "        text = f.read()\n",
    "        test = re.split('\\n', text)\n",
    "    tp = 0\n",
    "    fp = 0\n",
    "    fn = 0\n",
    "    for sent in test:\n",
    "        if len(model(sent)) == 1:\n",
    "            tp += 1\n",
    "        else:\n",
    "            fp += 1\n",
    "    for i in range(len(test)-1):\n",
    "        sent1, sent2 = test[i], test[i+1]\n",
    "        sent = ' '.join([sent1, sent2])\n",
    "        if len(model(sent)) == 2:\n",
    "            tp += 1\n",
    "        else:\n",
    "            fn += 1\n",
    "    precision = (tp/(tp+fp))\n",
    "    recall = (tp/(tp+fn))\n",
    "    f1 = 2*(precision*recall)/(precision+recall)\n",
    "    print('Precision - ', precision)\n",
    "    print('Recall - ', recall)\n",
    "    print('F1 - ', f1)"
   ]
  },
  {
   "cell_type": "code",
   "execution_count": 38,
   "metadata": {},
   "outputs": [
    {
     "name": "stdout",
     "output_type": "stream",
     "text": [
      "Precision -  0.9876543209876543\n",
      "Recall -  0.851063829787234\n",
      "F1 -  0.9142857142857143\n"
     ]
    }
   ],
   "source": [
    "#эта функция разбивает текст на предложения с помощью регулярного выражения '[\\.!\\?] [А-ЯЁ]'\n",
    "def token1(text):\n",
    "    text = re.sub('\\n', ' ', text)\n",
    "    boundary = '[\\.!\\?] [А-ЯЁ]'\n",
    "    out = re.split(boundary, text)\n",
    "    return out\n",
    "\n",
    "quality(token1)"
   ]
  },
  {
   "cell_type": "code",
   "execution_count": 35,
   "metadata": {},
   "outputs": [],
   "source": [
    "#здесь на полном тексте Мастера и Маргариты обучается PunktSentenceTokenizer\n",
    "\n",
    "from pprint import pprint\n",
    "from nltk.tokenize.punkt import PunktSentenceTokenizer, PunktTrainer\n",
    "\n",
    "with open('text.txt', 'r', encoding = 'utf-8') as f:\n",
    "    full_text = f.read()\n",
    "    full_text = re.sub('\\n', ' ', full_text)\n",
    "\n",
    "trainer = PunktTrainer()\n",
    "trainer.INCLUDE_ALL_COLLOCS = True\n",
    "trainer.train(full_text)\n",
    " \n",
    "tokenizer = PunktSentenceTokenizer(trainer.get_params())"
   ]
  },
  {
   "cell_type": "code",
   "execution_count": 36,
   "metadata": {},
   "outputs": [
    {
     "name": "stdout",
     "output_type": "stream",
     "text": [
      "Precision -  0.9518072289156626\n",
      "Recall -  0.8681318681318682\n",
      "F1 -  0.9080459770114944\n"
     ]
    }
   ],
   "source": [
    "#разбиваем отрывок текста с помощью обученного на полном тексте PunktSentenceTokenizer, оцениваем качество\n",
    "with open('text_unsplit.txt', 'r', encoding = 'utf-8') as f:\n",
    "    text = f.read()\n",
    "    text = re.sub('\\n', ' ', text)\n",
    "    out = tokenizer.tokenize(text)\n",
    "    \n",
    "quality(tokenizer.tokenize)"
   ]
  }
 ],
 "metadata": {
  "kernelspec": {
   "display_name": "Python 3",
   "language": "python",
   "name": "python3"
  },
  "language_info": {
   "codemirror_mode": {
    "name": "ipython",
    "version": 3
   },
   "file_extension": ".py",
   "mimetype": "text/x-python",
   "name": "python",
   "nbconvert_exporter": "python",
   "pygments_lexer": "ipython3",
   "version": "3.6.5"
  }
 },
 "nbformat": 4,
 "nbformat_minor": 2
}
